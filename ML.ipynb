{
 "cells": [
  {
   "cell_type": "code",
   "execution_count": 1,
   "id": "14926af8",
   "metadata": {},
   "outputs": [],
   "source": [
    "import pandas as pd               \n",
    "import numpy as np                \n",
    "import matplotlib.pyplot as plt   \n",
    "import seaborn as sns             \n",
    "\n",
    "%matplotlib inline"
   ]
  },
  {
   "cell_type": "markdown",
   "id": "6ce23819",
   "metadata": {},
   "source": [
    "import warnings\n",
    "warnings.filterwarnings(\"ignore\")\n"
   ]
  },
  {
   "cell_type": "code",
   "execution_count": 8,
   "id": "7ec49c47",
   "metadata": {},
   "outputs": [
    {
     "name": "stdout",
     "output_type": "stream",
     "text": [
      "Размер выборки: (2040, 10)\n"
     ]
    },
    {
     "data": {
      "text/html": [
       "<div>\n",
       "<style scoped>\n",
       "    .dataframe tbody tr th:only-of-type {\n",
       "        vertical-align: middle;\n",
       "    }\n",
       "\n",
       "    .dataframe tbody tr th {\n",
       "        vertical-align: top;\n",
       "    }\n",
       "\n",
       "    .dataframe thead th {\n",
       "        text-align: right;\n",
       "    }\n",
       "</style>\n",
       "<table border=\"1\" class=\"dataframe\">\n",
       "  <thead>\n",
       "    <tr style=\"text-align: right;\">\n",
       "      <th></th>\n",
       "      <th>price</th>\n",
       "      <th>totsp</th>\n",
       "      <th>livesp</th>\n",
       "      <th>kitsp</th>\n",
       "      <th>dist</th>\n",
       "      <th>metrdist</th>\n",
       "      <th>walk</th>\n",
       "      <th>brick</th>\n",
       "      <th>floor</th>\n",
       "      <th>code</th>\n",
       "    </tr>\n",
       "    <tr>\n",
       "      <th>n</th>\n",
       "      <th></th>\n",
       "      <th></th>\n",
       "      <th></th>\n",
       "      <th></th>\n",
       "      <th></th>\n",
       "      <th></th>\n",
       "      <th></th>\n",
       "      <th></th>\n",
       "      <th></th>\n",
       "      <th></th>\n",
       "    </tr>\n",
       "  </thead>\n",
       "  <tbody>\n",
       "    <tr>\n",
       "      <th>1</th>\n",
       "      <td>81</td>\n",
       "      <td>58</td>\n",
       "      <td>40</td>\n",
       "      <td>6.0</td>\n",
       "      <td>12.5</td>\n",
       "      <td>7</td>\n",
       "      <td>1</td>\n",
       "      <td>1</td>\n",
       "      <td>1</td>\n",
       "      <td>3</td>\n",
       "    </tr>\n",
       "    <tr>\n",
       "      <th>2</th>\n",
       "      <td>75</td>\n",
       "      <td>44</td>\n",
       "      <td>28</td>\n",
       "      <td>6.0</td>\n",
       "      <td>13.5</td>\n",
       "      <td>7</td>\n",
       "      <td>1</td>\n",
       "      <td>0</td>\n",
       "      <td>1</td>\n",
       "      <td>6</td>\n",
       "    </tr>\n",
       "    <tr>\n",
       "      <th>3</th>\n",
       "      <td>128</td>\n",
       "      <td>70</td>\n",
       "      <td>42</td>\n",
       "      <td>6.0</td>\n",
       "      <td>14.5</td>\n",
       "      <td>3</td>\n",
       "      <td>1</td>\n",
       "      <td>1</td>\n",
       "      <td>1</td>\n",
       "      <td>3</td>\n",
       "    </tr>\n",
       "    <tr>\n",
       "      <th>4</th>\n",
       "      <td>95</td>\n",
       "      <td>61</td>\n",
       "      <td>37</td>\n",
       "      <td>6.0</td>\n",
       "      <td>13.5</td>\n",
       "      <td>7</td>\n",
       "      <td>1</td>\n",
       "      <td>0</td>\n",
       "      <td>1</td>\n",
       "      <td>1</td>\n",
       "    </tr>\n",
       "    <tr>\n",
       "      <th>5</th>\n",
       "      <td>330</td>\n",
       "      <td>104</td>\n",
       "      <td>60</td>\n",
       "      <td>11.0</td>\n",
       "      <td>10.5</td>\n",
       "      <td>7</td>\n",
       "      <td>0</td>\n",
       "      <td>1</td>\n",
       "      <td>1</td>\n",
       "      <td>3</td>\n",
       "    </tr>\n",
       "  </tbody>\n",
       "</table>\n",
       "</div>"
      ],
      "text/plain": [
       "   price  totsp  livesp  kitsp  dist  metrdist  walk  brick  floor  code\n",
       "n                                                                       \n",
       "1     81     58      40    6.0  12.5         7     1      1      1     3\n",
       "2     75     44      28    6.0  13.5         7     1      0      1     6\n",
       "3    128     70      42    6.0  14.5         3     1      1      1     3\n",
       "4     95     61      37    6.0  13.5         7     1      0      1     1\n",
       "5    330    104      60   11.0  10.5         7     0      1      1     3"
      ]
     },
     "execution_count": 8,
     "metadata": {},
     "output_type": "execute_result"
    }
   ],
   "source": [
    "df = pd.read_csv('flat.csv', sep='\\t', index_col='n')  #открыть файл \n",
    "print('Размер выборки:', df.shape)                          \n",
    "df.head( ) "
   ]
  },
  {
   "cell_type": "code",
   "execution_count": null,
   "id": "6bbf5d3d",
   "metadata": {},
   "outputs": [],
   "source": [
    "Описание переменных:\n",
    "n – номер квартиры по порядку\n",
    "price – цена квартиры в $1000\n",
    "totsp – общая площадь квартиры, кв.м.\n",
    "livesp жилая площадь квартиры, кв.м.\n",
    "kitsp – площадь кухни, кв.м.\n",
    "dist – расстояние от центра в км.\n",
    "metrdist – расстояние до метро в минутах\n",
    "walk – 1 – пешком от метро, 0 – на транспорте\n",
    "brick 1 – кирпичный, монолит ж/б, 0 – другой\n",
    "floor 1 – этаж кроме первого и последнего, 0 – иначе.\n",
    "code – число от 1 до 8, при помощи которого мы группируем наблюдения по\n",
    "подвыборкам:\n",
    "1. Наблюдения сгруппированы на севере, вокруг Калужско-Рижской линии\n",
    "метрополитена\n",
    "2. Север, вокруг Серпуховско-Тимирязевской линии метрополитена\n",
    "3. Северо-запад, вокруг Замоскворецкой линии метрополитена\n",
    "4. Северо-запад, вокруг Таганско-Краснопресненской линии метрополитена\n",
    "5. Юго-восток, вокруг Люблинской линии метрополитена\n",
    "6. Юго-восток, вокруг Таганско-Краснопресненской линии метрополитена\n",
    "7. Восток, вокруг Калиниской линии метрополитена\n",
    "8. Восток, вокруг Арбатско-Покровской линии метрополитена"
   ]
  },
  {
   "cell_type": "code",
   "execution_count": 9,
   "id": "81670e12",
   "metadata": {},
   "outputs": [
    {
     "data": {
      "text/plain": [
       "price       0\n",
       "totsp       0\n",
       "livesp      0\n",
       "kitsp       0\n",
       "dist        0\n",
       "metrdist    0\n",
       "walk        0\n",
       "brick       0\n",
       "floor       0\n",
       "code        0\n",
       "dtype: int64"
      ]
     },
     "execution_count": 9,
     "metadata": {},
     "output_type": "execute_result"
    }
   ],
   "source": [
    "df.isnull().sum() #проверка пропусков\n"
   ]
  },
  {
   "cell_type": "code",
   "execution_count": 10,
   "id": "05cd65f4",
   "metadata": {},
   "outputs": [
    {
     "data": {
      "image/png": "[encoded data removed]",
      "text/plain": [
       "<Figure size 432x288 with 1 Axes>"
      ]
     },
     "metadata": {
      "needs_background": "light"
     },
     "output_type": "display_data"
    }
   ],
   "source": [
    "df.price.hist(bins=30);"
   ]
  },
  {
   "cell_type": "code",
   "execution_count": null,
   "id": "77c6623b",
   "metadata": {},
   "outputs": [],
   "source": [
    "Заметно, что есть вбросы,поэтому нужно прологарифмировать"
   ]
  },
  {
   "cell_type": "code",
   "execution_count": 11,
   "id": "e995ad6e",
   "metadata": {},
   "outputs": [
    {
     "data": {
      "image/png": "[encoded data removed]",
      "text/plain": [
       "<Figure size 432x288 with 1 Axes>"
      ]
     },
     "metadata": {
      "needs_background": "light"
     },
     "output_type": "display_data"
    }
   ],
   "source": [
    "df['price'] = np.log(df['price'])\n",
    "df.price.hist(bins=30);"
   ]
  },
  {
   "cell_type": "code",
   "execution_count": 12,
   "id": "8148c862",
   "metadata": {},
   "outputs": [
    {
     "data": {
      "image/png": "[encoded data removed]",
      "text/plain": [
       "<Figure size 864x720 with 2 Axes>"
      ]
     },
     "metadata": {
      "needs_background": "light"
     },
     "output_type": "display_data"
    }
   ],
   "source": [
    "plt.figure(figsize=(12, 10))\n",
    "sns.heatmap(df.corr(), annot=True);"
   ]
  },
  {
   "cell_type": "code",
   "execution_count": 13,
   "id": "460993b2",
   "metadata": {},
   "outputs": [
    {
     "data": {
      "text/html": [
       "<div>\n",
       "<style scoped>\n",
       "    .dataframe tbody tr th:only-of-type {\n",
       "        vertical-align: middle;\n",
       "    }\n",
       "\n",
       "    .dataframe tbody tr th {\n",
       "        vertical-align: top;\n",
       "    }\n",
       "\n",
       "    .dataframe thead th {\n",
       "        text-align: right;\n",
       "    }\n",
       "</style>\n",
       "<table border=\"1\" class=\"dataframe\">\n",
       "  <thead>\n",
       "    <tr style=\"text-align: right;\">\n",
       "      <th></th>\n",
       "      <th>price</th>\n",
       "      <th>totsp</th>\n",
       "      <th>livesp</th>\n",
       "      <th>kitsp</th>\n",
       "      <th>dist</th>\n",
       "      <th>metrdist</th>\n",
       "      <th>walk</th>\n",
       "      <th>brick</th>\n",
       "      <th>floor</th>\n",
       "      <th>code_2</th>\n",
       "      <th>code_3</th>\n",
       "      <th>code_4</th>\n",
       "      <th>code_5</th>\n",
       "      <th>code_6</th>\n",
       "      <th>code_7</th>\n",
       "      <th>code_8</th>\n",
       "    </tr>\n",
       "    <tr>\n",
       "      <th>n</th>\n",
       "      <th></th>\n",
       "      <th></th>\n",
       "      <th></th>\n",
       "      <th></th>\n",
       "      <th></th>\n",
       "      <th></th>\n",
       "      <th></th>\n",
       "      <th></th>\n",
       "      <th></th>\n",
       "      <th></th>\n",
       "      <th></th>\n",
       "      <th></th>\n",
       "      <th></th>\n",
       "      <th></th>\n",
       "      <th></th>\n",
       "      <th></th>\n",
       "    </tr>\n",
       "  </thead>\n",
       "  <tbody>\n",
       "    <tr>\n",
       "      <th>1</th>\n",
       "      <td>4.394449</td>\n",
       "      <td>58</td>\n",
       "      <td>40</td>\n",
       "      <td>6.0</td>\n",
       "      <td>12.5</td>\n",
       "      <td>7</td>\n",
       "      <td>1</td>\n",
       "      <td>1</td>\n",
       "      <td>1</td>\n",
       "      <td>0</td>\n",
       "      <td>1</td>\n",
       "      <td>0</td>\n",
       "      <td>0</td>\n",
       "      <td>0</td>\n",
       "      <td>0</td>\n",
       "      <td>0</td>\n",
       "    </tr>\n",
       "    <tr>\n",
       "      <th>2</th>\n",
       "      <td>4.317488</td>\n",
       "      <td>44</td>\n",
       "      <td>28</td>\n",
       "      <td>6.0</td>\n",
       "      <td>13.5</td>\n",
       "      <td>7</td>\n",
       "      <td>1</td>\n",
       "      <td>0</td>\n",
       "      <td>1</td>\n",
       "      <td>0</td>\n",
       "      <td>0</td>\n",
       "      <td>0</td>\n",
       "      <td>0</td>\n",
       "      <td>1</td>\n",
       "      <td>0</td>\n",
       "      <td>0</td>\n",
       "    </tr>\n",
       "    <tr>\n",
       "      <th>3</th>\n",
       "      <td>4.852030</td>\n",
       "      <td>70</td>\n",
       "      <td>42</td>\n",
       "      <td>6.0</td>\n",
       "      <td>14.5</td>\n",
       "      <td>3</td>\n",
       "      <td>1</td>\n",
       "      <td>1</td>\n",
       "      <td>1</td>\n",
       "      <td>0</td>\n",
       "      <td>1</td>\n",
       "      <td>0</td>\n",
       "      <td>0</td>\n",
       "      <td>0</td>\n",
       "      <td>0</td>\n",
       "      <td>0</td>\n",
       "    </tr>\n",
       "    <tr>\n",
       "      <th>4</th>\n",
       "      <td>4.553877</td>\n",
       "      <td>61</td>\n",
       "      <td>37</td>\n",
       "      <td>6.0</td>\n",
       "      <td>13.5</td>\n",
       "      <td>7</td>\n",
       "      <td>1</td>\n",
       "      <td>0</td>\n",
       "      <td>1</td>\n",
       "      <td>0</td>\n",
       "      <td>0</td>\n",
       "      <td>0</td>\n",
       "      <td>0</td>\n",
       "      <td>0</td>\n",
       "      <td>0</td>\n",
       "      <td>0</td>\n",
       "    </tr>\n",
       "    <tr>\n",
       "      <th>5</th>\n",
       "      <td>5.799093</td>\n",
       "      <td>104</td>\n",
       "      <td>60</td>\n",
       "      <td>11.0</td>\n",
       "      <td>10.5</td>\n",
       "      <td>7</td>\n",
       "      <td>0</td>\n",
       "      <td>1</td>\n",
       "      <td>1</td>\n",
       "      <td>0</td>\n",
       "      <td>1</td>\n",
       "      <td>0</td>\n",
       "      <td>0</td>\n",
       "      <td>0</td>\n",
       "      <td>0</td>\n",
       "      <td>0</td>\n",
       "    </tr>\n",
       "  </tbody>\n",
       "</table>\n",
       "</div>"
      ],
      "text/plain": [
       "      price  totsp  livesp  kitsp  dist  metrdist  walk  brick  floor  code_2  \\\n",
       "n                                                                               \n",
       "1  4.394449     58      40    6.0  12.5         7     1      1      1       0   \n",
       "2  4.317488     44      28    6.0  13.5         7     1      0      1       0   \n",
       "3  4.852030     70      42    6.0  14.5         3     1      1      1       0   \n",
       "4  4.553877     61      37    6.0  13.5         7     1      0      1       0   \n",
       "5  5.799093    104      60   11.0  10.5         7     0      1      1       0   \n",
       "\n",
       "   code_3  code_4  code_5  code_6  code_7  code_8  \n",
       "n                                                  \n",
       "1       1       0       0       0       0       0  \n",
       "2       0       0       0       1       0       0  \n",
       "3       1       0       0       0       0       0  \n",
       "4       0       0       0       0       0       0  \n",
       "5       1       0       0       0       0       0  "
      ]
     },
     "execution_count": 13,
     "metadata": {},
     "output_type": "execute_result"
    }
   ],
   "source": [
    "# Чтобы не было зависимостей от номера ветки,используется One Hot Encoding\n",
    "# OHE для категориальной переменной\n",
    "df_categor = pd.get_dummies(df['code'], drop_first=True, prefix='code')\n",
    "\n",
    "# Объединили назад наши таблички\n",
    "df = pd.concat([df.drop('code',axis=1),df_categor], axis=1)\n",
    "df.head()"
   ]
  },
  {
   "cell_type": "code",
   "execution_count": 32,
   "id": "800cbca4",
   "metadata": {},
   "outputs": [],
   "source": [
    "# отделение на тест и тренировку\n",
    "from sklearn.model_selection import train_test_split\n",
    "df_train, df_test = train_test_split(df, test_size = 0.3)"
   ]
  },
  {
   "cell_type": "code",
   "execution_count": 40,
   "id": "3001905b",
   "metadata": {},
   "outputs": [
    {
     "data": {
      "text/plain": [
       "StandardScaler()"
      ]
     },
     "execution_count": 40,
     "metadata": {},
     "output_type": "execute_result"
    }
   ],
   "source": [
    "# скалирование\n",
    "from sklearn.preprocessing import StandardScaler\n",
    "\n",
    "# объявили скалировщик!\n",
    "scaler = StandardScaler()\n",
    "\n",
    "# учим скалировщик скалировать все переменны на трэйне\n",
    "scaler.fit(df_train[['totsp', 'livesp', 'kitsp', 'dist', 'metrdist']]) "
   ]
  },
  {
   "cell_type": "code",
   "execution_count": 41,
   "id": "41caab3f",
   "metadata": {},
   "outputs": [],
   "source": [
    "# Применяем скалировщик к трэйну\n",
    "df_train_scale = scaler.transform(df_train[['totsp', 'livesp', 'kitsp', 'dist', 'metrdist']])\n",
    "\n",
    "# Применяем скалирвощик к тесту \n",
    "df_test_scale = scaler.transform(df_test[['totsp', 'livesp', 'kitsp', 'dist', 'metrdist']])"
   ]
  },
  {
   "cell_type": "code",
   "execution_count": 42,
   "id": "4a5db725",
   "metadata": {},
   "outputs": [],
   "source": [
    "# Заменяем значения на отскалированные\n",
    "df_train[['totsp', 'livesp', 'kitsp', 'dist', 'metrdist']] = df_train_scale\n",
    "df_test[['totsp', 'livesp', 'kitsp', 'dist', 'metrdist']] = df_test_scale"
   ]
  },
  {
   "cell_type": "code",
   "execution_count": 43,
   "id": "3d7b99ae",
   "metadata": {},
   "outputs": [
    {
     "data": {
      "text/html": [
       "<div>\n",
       "<style scoped>\n",
       "    .dataframe tbody tr th:only-of-type {\n",
       "        vertical-align: middle;\n",
       "    }\n",
       "\n",
       "    .dataframe tbody tr th {\n",
       "        vertical-align: top;\n",
       "    }\n",
       "\n",
       "    .dataframe thead th {\n",
       "        text-align: right;\n",
       "    }\n",
       "</style>\n",
       "<table border=\"1\" class=\"dataframe\">\n",
       "  <thead>\n",
       "    <tr style=\"text-align: right;\">\n",
       "      <th></th>\n",
       "      <th>price</th>\n",
       "      <th>totsp</th>\n",
       "      <th>livesp</th>\n",
       "      <th>kitsp</th>\n",
       "      <th>dist</th>\n",
       "      <th>metrdist</th>\n",
       "      <th>walk</th>\n",
       "      <th>brick</th>\n",
       "      <th>floor</th>\n",
       "      <th>code_2</th>\n",
       "      <th>code_3</th>\n",
       "      <th>code_4</th>\n",
       "      <th>code_5</th>\n",
       "      <th>code_6</th>\n",
       "      <th>code_7</th>\n",
       "      <th>code_8</th>\n",
       "    </tr>\n",
       "    <tr>\n",
       "      <th>n</th>\n",
       "      <th></th>\n",
       "      <th></th>\n",
       "      <th></th>\n",
       "      <th></th>\n",
       "      <th></th>\n",
       "      <th></th>\n",
       "      <th></th>\n",
       "      <th></th>\n",
       "      <th></th>\n",
       "      <th></th>\n",
       "      <th></th>\n",
       "      <th></th>\n",
       "      <th></th>\n",
       "      <th></th>\n",
       "      <th></th>\n",
       "      <th></th>\n",
       "    </tr>\n",
       "  </thead>\n",
       "  <tbody>\n",
       "    <tr>\n",
       "      <th>402</th>\n",
       "      <td>4.521789</td>\n",
       "      <td>-0.348247</td>\n",
       "      <td>0.813303</td>\n",
       "      <td>-1.044092</td>\n",
       "      <td>0.592895</td>\n",
       "      <td>0.475373</td>\n",
       "      <td>0</td>\n",
       "      <td>0</td>\n",
       "      <td>1</td>\n",
       "      <td>0</td>\n",
       "      <td>0</td>\n",
       "      <td>0</td>\n",
       "      <td>1</td>\n",
       "      <td>0</td>\n",
       "      <td>0</td>\n",
       "      <td>0</td>\n",
       "    </tr>\n",
       "    <tr>\n",
       "      <th>377</th>\n",
       "      <td>4.634729</td>\n",
       "      <td>-0.673661</td>\n",
       "      <td>-1.053894</td>\n",
       "      <td>-0.331054</td>\n",
       "      <td>-0.144531</td>\n",
       "      <td>0.475373</td>\n",
       "      <td>0</td>\n",
       "      <td>0</td>\n",
       "      <td>1</td>\n",
       "      <td>0</td>\n",
       "      <td>1</td>\n",
       "      <td>0</td>\n",
       "      <td>0</td>\n",
       "      <td>0</td>\n",
       "      <td>0</td>\n",
       "      <td>0</td>\n",
       "    </tr>\n",
       "    <tr>\n",
       "      <th>1046</th>\n",
       "      <td>4.653960</td>\n",
       "      <td>-0.803827</td>\n",
       "      <td>-1.053894</td>\n",
       "      <td>-0.331054</td>\n",
       "      <td>1.772778</td>\n",
       "      <td>-0.840705</td>\n",
       "      <td>1</td>\n",
       "      <td>0</td>\n",
       "      <td>0</td>\n",
       "      <td>1</td>\n",
       "      <td>0</td>\n",
       "      <td>0</td>\n",
       "      <td>0</td>\n",
       "      <td>0</td>\n",
       "      <td>0</td>\n",
       "      <td>0</td>\n",
       "    </tr>\n",
       "    <tr>\n",
       "      <th>1220</th>\n",
       "      <td>4.605170</td>\n",
       "      <td>-0.608578</td>\n",
       "      <td>-0.680455</td>\n",
       "      <td>-0.687573</td>\n",
       "      <td>0.297924</td>\n",
       "      <td>-0.840705</td>\n",
       "      <td>1</td>\n",
       "      <td>0</td>\n",
       "      <td>1</td>\n",
       "      <td>0</td>\n",
       "      <td>0</td>\n",
       "      <td>0</td>\n",
       "      <td>0</td>\n",
       "      <td>0</td>\n",
       "      <td>1</td>\n",
       "      <td>0</td>\n",
       "    </tr>\n",
       "    <tr>\n",
       "      <th>1380</th>\n",
       "      <td>4.343805</td>\n",
       "      <td>-1.194323</td>\n",
       "      <td>-1.053894</td>\n",
       "      <td>-1.044092</td>\n",
       "      <td>-1.029443</td>\n",
       "      <td>0.475373</td>\n",
       "      <td>1</td>\n",
       "      <td>0</td>\n",
       "      <td>0</td>\n",
       "      <td>0</td>\n",
       "      <td>0</td>\n",
       "      <td>0</td>\n",
       "      <td>0</td>\n",
       "      <td>0</td>\n",
       "      <td>0</td>\n",
       "      <td>1</td>\n",
       "    </tr>\n",
       "  </tbody>\n",
       "</table>\n",
       "</div>"
      ],
      "text/plain": [
       "         price     totsp    livesp     kitsp      dist  metrdist  walk  brick  \\\n",
       "n                                                                               \n",
       "402   4.521789 -0.348247  0.813303 -1.044092  0.592895  0.475373     0      0   \n",
       "377   4.634729 -0.673661 -1.053894 -0.331054 -0.144531  0.475373     0      0   \n",
       "1046  4.653960 -0.803827 -1.053894 -0.331054  1.772778 -0.840705     1      0   \n",
       "1220  4.605170 -0.608578 -0.680455 -0.687573  0.297924 -0.840705     1      0   \n",
       "1380  4.343805 -1.194323 -1.053894 -1.044092 -1.029443  0.475373     1      0   \n",
       "\n",
       "      floor  code_2  code_3  code_4  code_5  code_6  code_7  code_8  \n",
       "n                                                                    \n",
       "402       1       0       0       0       1       0       0       0  \n",
       "377       1       0       1       0       0       0       0       0  \n",
       "1046      0       1       0       0       0       0       0       0  \n",
       "1220      1       0       0       0       0       0       1       0  \n",
       "1380      0       0       0       0       0       0       0       1  "
      ]
     },
     "execution_count": 43,
     "metadata": {},
     "output_type": "execute_result"
    }
   ],
   "source": [
    "df_train.head()"
   ]
  },
  {
   "cell_type": "code",
   "execution_count": 44,
   "id": "8f003e18",
   "metadata": {},
   "outputs": [
    {
     "name": "stdout",
     "output_type": "stream",
     "text": [
      "(1428, 16)\n",
      "(612, 16)\n"
     ]
    }
   ],
   "source": [
    "print(df_train.shape) # Посмотрим на размеры трэйна и теста \n",
    "print(df_test.shape) "
   ]
  },
  {
   "cell_type": "code",
   "execution_count": 56,
   "id": "417bb446",
   "metadata": {},
   "outputs": [],
   "source": [
    "# Вытаскиваем цены и параметры квартир по разным переменным для удобства \n",
    "\n",
    "y_train = df_train.price \n",
    "y_test = df_test.price \n",
    "\n",
    "X_train = df_train.drop('price', axis=1).values\n",
    "X_test = df_test.drop('price', axis=1).values"
   ]
  },
  {
   "cell_type": "code",
   "execution_count": 49,
   "id": "2c22a849",
   "metadata": {},
   "outputs": [
    {
     "data": {
      "text/plain": [
       "array([4.79713147, 4.79713147, 4.79713147, 4.79713147, 4.79713147])"
      ]
     },
     "execution_count": 49,
     "metadata": {},
     "output_type": "execute_result"
    }
   ],
   "source": [
    "#константный прогноз \n",
    "y_mean = np.mean(y_train)                     # посчитали среднее \n",
    "y_pred_naive = np.ones(len(y_test)) * y_mean  # спрогнозировали им цену всех квартир в тестовой выборке\n",
    "y_pred_naive[:5]"
   ]
  },
  {
   "cell_type": "code",
   "execution_count": 50,
   "id": "3825b565",
   "metadata": {},
   "outputs": [
    {
     "data": {
      "text/plain": [
       "32.650670382855715"
      ]
     },
     "execution_count": 50,
     "metadata": {},
     "output_type": "execute_result"
    }
   ],
   "source": [
    "# метрика mae\n",
    "from sklearn import metrics  # подгружаем метрики\n",
    "metrics.mean_absolute_error(y_test, y_pred_naive)\n",
    "metrics.mean_absolute_error(np.exp(y_test), np.exp(y_pred_naive))  #перевод из логарифмич"
   ]
  },
  {
   "cell_type": "code",
   "execution_count": 51,
   "id": "b4e0410f",
   "metadata": {},
   "outputs": [
    {
     "data": {
      "text/plain": [
       "2775.032655484384"
      ]
     },
     "execution_count": 51,
     "metadata": {},
     "output_type": "execute_result"
    }
   ],
   "source": [
    "# метрика mse\n",
    "metrics.mean_squared_error(y_test, y_pred_naive)\n",
    "metrics.mean_squared_error(np.exp(y_test), np.exp(y_pred_naive))"
   ]
  },
  {
   "cell_type": "code",
   "execution_count": 52,
   "id": "5d03ffe4",
   "metadata": {},
   "outputs": [
    {
     "data": {
      "text/plain": [
       "52.678578715492925"
      ]
     },
     "execution_count": 52,
     "metadata": {},
     "output_type": "execute_result"
    }
   ],
   "source": [
    "#rmse \n",
    "np.sqrt(metrics.mean_squared_error(np.exp(y_test), np.exp(y_pred_naive)))"
   ]
  },
  {
   "cell_type": "code",
   "execution_count": 53,
   "id": "30876987",
   "metadata": {},
   "outputs": [
    {
     "data": {
      "text/plain": [
       "5.128042075088888"
      ]
     },
     "execution_count": 53,
     "metadata": {},
     "output_type": "execute_result"
    }
   ],
   "source": [
    "#mape (в проц)\n",
    "def mean_absolute_percentage_error(y_true, y_pred): \n",
    "    y_true, y_pred = np.array(y_true), np.array(y_pred)\n",
    "    return np.mean(np.abs((y_true - y_pred) / y_true)) * 100\n",
    "\n",
    "mean_absolute_percentage_error(y_test, y_pred_naive)"
   ]
  },
  {
   "cell_type": "code",
   "execution_count": 54,
   "id": "a1b4d238",
   "metadata": {},
   "outputs": [],
   "source": [
    "def print_metrics(y_test,y_pred):\n",
    "    print('MAE:', metrics.mean_absolute_error(np.exp(y_test), np.exp(y_pred)))\n",
    "    print('RMSE:', np.sqrt(metrics.mean_squared_error(np.exp(y_test), np.exp(y_pred))))\n",
    "    print('MAPE:', mean_absolute_percentage_error(y_test, y_pred))\n",
    "    pass"
   ]
  },
  {
   "cell_type": "code",
   "execution_count": 55,
   "id": "a34e4b1b",
   "metadata": {},
   "outputs": [
    {
     "name": "stdout",
     "output_type": "stream",
     "text": [
      "MAE: 32.650670382855715\n",
      "RMSE: 52.678578715492925\n",
      "MAPE: 5.128042075088888\n"
     ]
    }
   ],
   "source": [
    "print_metrics(y_test, y_pred_naive)"
   ]
  },
  {
   "cell_type": "code",
   "execution_count": 58,
   "id": "b1132b9c",
   "metadata": {},
   "outputs": [],
   "source": [
    "from sklearn.linear_model import LinearRegression\n",
    "\n",
    "# Объявили модель\n",
    "model_regression = LinearRegression()\n",
    "\n",
    "# Обучили модель на тренировочной выборке \n",
    "model_regression.fit(X_train, y_train)\n",
    "\n",
    "# Сделали прогнозы на тестовой выборке \n",
    "y_pred_regr = model_regression.predict(X_test)"
   ]
  },
  {
   "cell_type": "code",
   "execution_count": 59,
   "id": "e04fb595",
   "metadata": {},
   "outputs": [
    {
     "name": "stdout",
     "output_type": "stream",
     "text": [
      "MAE: 16.230751120698734\n",
      "RMSE: 28.724186354940795\n",
      "MAPE: 2.3352478139656774\n"
     ]
    }
   ],
   "source": [
    "print_metrics(y_test,y_pred_regr)"
   ]
  },
  {
   "cell_type": "code",
   "execution_count": 62,
   "id": "073f270d",
   "metadata": {},
   "outputs": [
    {
     "name": "stdout",
     "output_type": "stream",
     "text": [
      "Лучшее значение параметра: {'alpha': 0.001}\n"
     ]
    }
   ],
   "source": [
    "#Lasso regr\n",
    "from sklearn.model_selection import GridSearchCV\n",
    "from sklearn.linear_model import Lasso\n",
    "# Решётка для перебора параметра \n",
    "param_grid = {'alpha': [0.001, 0.01, 0.05, 0.1, 0.5, 0.8, 1, 5, 10]}\n",
    "\n",
    "# Объявили модель \n",
    "model_lasso = Lasso() \n",
    "\n",
    "# Объявили перебор \n",
    "grid_cv_lasso = GridSearchCV(model_lasso, param_grid, cv = 5)\n",
    "grid_cv_lasso.fit(X_train, y_train)\n",
    "print('Лучшее значение параметра:', grid_cv_lasso.best_params_)\n",
    "\n",
    "# Сделали прогнозы\n",
    "y_pred_lasso = grid_cv_lasso.predict(X_test)"
   ]
  },
  {
   "cell_type": "code",
   "execution_count": 66,
   "id": "4da552c5",
   "metadata": {},
   "outputs": [
    {
     "name": "stdout",
     "output_type": "stream",
     "text": [
      "MAE: 16.274310134466923\n",
      "RMSE: 28.68819053560365\n",
      "MAPE: 2.3415192436599948\n"
     ]
    }
   ],
   "source": [
    "print_metrics(y_test,y_pred_lasso)"
   ]
  },
  {
   "cell_type": "code",
   "execution_count": null,
   "id": "044ca119",
   "metadata": {},
   "outputs": [],
   "source": []
  }
 ],
 "metadata": {
  "kernelspec": {
   "display_name": "Python 3",
   "language": "python",
   "name": "python3"
  },
  "language_info": {
   "codemirror_mode": {
    "name": "ipython",
    "version": 3
   },
   "file_extension": ".py",
   "mimetype": "text/x-python",
   "name": "python",
   "nbconvert_exporter": "python",
   "pygments_lexer": "ipython3",
   "version": "3.8.8"
  }
 },
 "nbformat": 4,
 "nbformat_minor": 5
}
